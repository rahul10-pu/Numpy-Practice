{
  "nbformat": 4,
  "nbformat_minor": 0,
  "metadata": {
    "colab": {
      "name": "in_numpy.ipynb",
      "version": "0.3.2",
      "provenance": [],
      "collapsed_sections": [],
      "include_colab_link": true
    },
    "kernelspec": {
      "name": "python3",
      "display_name": "Python 3"
    }
  },
  "cells": [
    {
      "cell_type": "markdown",
      "metadata": {
        "id": "view-in-github",
        "colab_type": "text"
      },
      "source": [
        "<a href=\"https://colab.research.google.com/github/rahul10-pu/Numpy-Practice/blob/master/in_numpy.ipynb\" target=\"_parent\"><img src=\"https://colab.research.google.com/assets/colab-badge.svg\" alt=\"Open In Colab\"/></a>"
      ]
    },
    {
      "metadata": {
        "id": "z1hzN_JU10R6",
        "colab_type": "code",
        "colab": {}
      },
      "cell_type": "code",
      "source": [
        "lst = [5, 10, 0, 200] \n",
        "import numpy as np\n",
        "arr = np.array(lst)\n",
        "print(arr + 5)\n",
        "# Output:\n",
        "# [10, 15, 5, 205]"
      ],
      "execution_count": 0,
      "outputs": []
    },
    {
      "metadata": {
        "id": "t7Z3HLen2Hln",
        "colab_type": "code",
        "colab": {}
      },
      "cell_type": "code",
      "source": [
        "lst = [1, 2, 3, 'text', True, 3+2j] \n",
        "import numpy as np\n",
        "arr = np.array(lst)\n",
        "print(type(arr[0]),type(arr[4]), type(arr[5]))\n",
        "# Output:\n",
        "# <class 'numpy.str_'> <class 'numpy.str_'> <class 'numpy.str_'>"
      ],
      "execution_count": 0,
      "outputs": []
    },
    {
      "metadata": {
        "id": "da4mmMvf2Lqe",
        "colab_type": "code",
        "colab": {}
      },
      "cell_type": "code",
      "source": [
        "lst = [56, 45, 12, 6]\n",
        "import numpy as np\n",
        "arr = np.array(lst)\n",
        "print(arr.nbytes)\n",
        "# Output:\n",
        "# 16 "
      ],
      "execution_count": 0,
      "outputs": []
    },
    {
      "metadata": {
        "id": "2PG1_Yo92mMW",
        "colab_type": "code",
        "colab": {}
      },
      "cell_type": "code",
      "source": [
        "''' Creation of an array with step size 1.33 between 0 - 10 '''\n",
        "print(np.arange(0, 10, 1.33, dtype = np.float64))\n",
        "# [ 0.    1.33  2.66  3.99  5.32  6.65  7.98  9.31]\n",
        "# arange() gives uncertain number of values based on steps\n",
        "# Hence, we use linspace, which asks for total number of values \n",
        "''' Creation of an array with total 5 values between 0 - 160 '''\n",
        "print(np.linspace(0, 160, 5, dtype = np.float64))\n",
        "# [   0.   40.   80.  120.  160.] \n",
        " "
      ],
      "execution_count": 0,
      "outputs": []
    },
    {
      "metadata": {
        "id": "UD_B0uN52wjK",
        "colab_type": "code",
        "colab": {}
      },
      "cell_type": "code",
      "source": [
        "''' Method I: Using array and reshape to convert array into matrix '''\n",
        "print(np.array([5,6,8,45,12,52]).reshape(2,3))\n",
        "# [[ 5  6  8]\n",
        "#  [45 12 52]]\n",
        "''' Method II: Using matrix function '''\n",
        "print(np.matrix([[1,2],\n",
        "                [3,4]]))\n",
        "# [[1 2]\n",
        "#  [3 4]]\n",
        "''' Method III: Using misc. functions '''\n",
        "print(np.eye(3)) # Identity matrix\n",
        "# [[ 1.  0.  0.]\n",
        "#  [ 0.  1.  0.]\n",
        "#  [ 0.  0.  1.]]\n",
        "print( np.zeros( (4,3) ) )\n",
        "# [[ 0.  0.  0.]\n",
        "#  [ 0.  0.  0.]\n",
        "#  [ 0.  0.  0.]\n",
        "#  [ 0.  0.  0.]]\n",
        "print(np.ones( (3,3), dtype = np.float64 ))\n",
        "# [[ 1.  1.  1.]\n",
        "#  [ 1.  1.  1.]\n",
        "#  [ 1.  1.  1.]]"
      ],
      "execution_count": 0,
      "outputs": []
    },
    {
      "metadata": {
        "id": "cx9qfU2t3S9Y",
        "colab_type": "code",
        "colab": {
          "base_uri": "https://localhost:8080/",
          "height": 50
        },
        "outputId": "92256fc1-52dd-431c-8e76-0052441e8e69"
      },
      "cell_type": "code",
      "source": [
        "import numpy as np\n",
        "arr1 = [25, 56, 12, 85, 34, 75]\n",
        "arr2 = [42, 3, 86, 32, 856, 46]\n",
        "np.asarray(arr1).shape\n",
        "Narr=np.random.rand(np.asarray(arr1).shape[0])\n",
        "arr1 = np.array(arr1,dtype = complex)\n",
        "arr1_mat =np.array(arr1).reshape(2,3)\n",
        "arr2_mat=np.array(arr2).reshape(2,3)\n",
        "(np.square(arr1_mat)-np.square(arr2_mat))/(arr1_mat-arr2_mat)"
      ],
      "execution_count": 16,
      "outputs": [
        {
          "output_type": "execute_result",
          "data": {
            "text/plain": [
              "array([[ 67.-0.j,  59.+0.j,  98.-0.j],\n",
              "       [117.+0.j, 890.-0.j, 121.+0.j]])"
            ]
          },
          "metadata": {
            "tags": []
          },
          "execution_count": 16
        }
      ]
    },
    {
      "metadata": {
        "id": "gzwInblb9D8M",
        "colab_type": "code",
        "colab": {
          "base_uri": "https://localhost:8080/",
          "height": 101
        },
        "outputId": "d350f634-acf8-4fd6-b883-2d118d224374"
      },
      "cell_type": "code",
      "source": [
        "import numpy as np\n",
        "\n",
        "arr1 = np.ones(10)\n",
        "print(arr1)\n",
        "arr2 = np.arange(10, dtype = np.float64)\n",
        "print(arr2)\n",
        "arr3 = arr1 + arr2\n",
        "print(arr3)\n",
        "print(np.result_type(arr1))\n",
        "print(np.result_type(arr3))"
      ],
      "execution_count": 18,
      "outputs": [
        {
          "output_type": "stream",
          "text": [
            "[1. 1. 1. 1. 1. 1. 1. 1. 1. 1.]\n",
            "[0. 1. 2. 3. 4. 5. 6. 7. 8. 9.]\n",
            "[ 1.  2.  3.  4.  5.  6.  7.  8.  9. 10.]\n",
            "float64\n",
            "float64\n"
          ],
          "name": "stdout"
        }
      ]
    },
    {
      "metadata": {
        "id": "ups_7O2g-SJd",
        "colab_type": "text"
      },
      "cell_type": "markdown",
      "source": [
        "we're given a literacy rate data sample of State X and State Y for two consecutive years measured quarterly on a scale of 0-10."
      ]
    },
    {
      "metadata": {
        "id": "iV5ED_Av-V9z",
        "colab_type": "code",
        "colab": {}
      },
      "cell_type": "code",
      "source": [
        "\n",
        "S_X = np.array([[2, 5, 6, 5],\n",
        "               [4, 8, 6, 5]])\n",
        "print(S_X)\n",
        "# [[2 5 6 5]\n",
        "#  [4 8 6 5]]\n",
        "S_Y = np.array([[6, 7, 5, 9],\n",
        "               [7, 5, 6, 4]])\n",
        "print(S_Y)\n",
        "# [[6 7 5 9]\n",
        "#  [7 5 6 4]] \n",
        "###Quarterly difference between each state's literacy rate per year.\n",
        "print(S_Y - S_X)\n",
        "# [[ 4  2 -1  4]\n",
        "#  [ 3 -3  0 -1]] \n",
        "#result1: we can state that for first quarter of first-year State Y has 4 times more literacy rate than State X and so on for other quarters.\n",
        "\n",
        "###Quarters having a literacy rate less than 2.\n",
        "''' Method 1 '''\n",
        "print(S_X < 2)\n",
        "# [[False False False False]\n",
        "#  [False False False False]]\n",
        "''' Method 2 '''\n",
        "twos_mat = np.ones((2, 4)) * 2\n",
        "print(np.less(S_Y, twos_mat))\n",
        "# [[False False False False]\n",
        "#  [False False False False]] \n",
        "\n",
        "######Quarters having a literacy rate with cumulative sum of more than or equal to 8 per year.\n",
        "#https://i.stack.imgur.com/gj5ue.jpg\n",
        "X_cumsum = np.cumsum(S_X, axis = 1)\n",
        "# [[2 5 6 5]\n",
        "#  [4 8 6 5]]\n",
        "print(X_cumsum)\n",
        "# [[ 2  7 13 18]\n",
        "#  [ 4 12 18 23]]\n",
        "print( X_cumsum >= 8)\n",
        "# [[False False  True  True]\n",
        "#  [False  True  True  True]]\n",
        "Y_cumsum = np.cumsum(S_Y, axis = 1)\n",
        "print(Y_cumsum)\n",
        "# [[ 6 13 18 27]\n",
        "#  [ 7 12 18 22]]\n",
        "print( Y_cumsum >= 8)\n",
        "# [[False  True  True  True]\n",
        "#  [False  True  True  True]] \n",
        "########### Mean of each year's literacy rate of State X and mean of each quarterly's literacy rate of State Y.\n",
        "print(np.mean(S_X, axis = 1))\n",
        "# [ 4.5   5.75]\n",
        "print(np.mean(S_Y, axis = 0))\n",
        "# [ 6.5  6.   5.5  6.5]\n"
      ],
      "execution_count": 0,
      "outputs": []
    },
    {
      "metadata": {
        "id": "pgvgX7dpIcyE",
        "colab_type": "code",
        "colab": {
          "base_uri": "https://localhost:8080/",
          "height": 84
        },
        "outputId": "d2399bb4-5bda-4f78-e7c1-761a133ced65"
      },
      "cell_type": "code",
      "source": [
        "#TODO:-Numpy Operation Exercise\n",
        "np.diag([4,5,6],1)\n",
        "arr = np.arange(11)\n",
        "np.negative(arr[6:])\n",
        "print(np.arange(0, 10, 5, dtype = np.int32))\n",
        "print(np.linspace(0, 10, 5, dtype = np.float64))\n",
        "print(np.linspace(0, 10, 5, dtype = np.int32))\n",
        "print(np.arange(0, 10, 5, dtype = np.float64))"
      ],
      "execution_count": 35,
      "outputs": [
        {
          "output_type": "stream",
          "text": [
            "[0 5]\n",
            "[ 0.   2.5  5.   7.5 10. ]\n",
            "[ 0  2  5  7 10]\n",
            "[0. 5.]\n"
          ],
          "name": "stdout"
        }
      ]
    },
    {
      "metadata": {
        "id": "51fthdA3MCwd",
        "colab_type": "code",
        "colab": {}
      },
      "cell_type": "code",
      "source": [
        ""
      ],
      "execution_count": 0,
      "outputs": []
    }
  ]
}